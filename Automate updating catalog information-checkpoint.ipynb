{
 "cells": [
  {
   "cell_type": "code",
   "execution_count": null,
   "metadata": {},
   "outputs": [],
   "source": [
    "import os, glob\n",
    "from PIL import Image\n",
    "\n",
    "newsize = 600, 400\n",
    "\n",
    "for file in glob.iglob(\"*.tiff\"):\n",
    "       im = Image.open(file).convert('RGB')\n",
    "       im.rotate(270).resize((newsize)).save(\"/supplier-data/images/\" + file, \"JPEG\")"
   ]
  },
  {
   "cell_type": "code",
   "execution_count": null,
   "metadata": {},
   "outputs": [],
   "source": [
    "import requests\n",
    "\n",
    "url = \"http://35.239.160.125/media/upload/\"\n",
    "for i in os.listdir('/supplier-data/images')\n",
    "    with open(i, 'rb') as opened:\n",
    "    r = requests.post(url, files={'file': opened})"
   ]
  },
  {
   "cell_type": "code",
   "execution_count": null,
   "metadata": {},
   "outputs": [],
   "source": [
    "import os\n",
    "import requests"
   ]
  },
  {
   "cell_type": "code",
   "execution_count": null,
   "metadata": {},
   "outputs": [],
   "source": [
    "\n",
    "#!/usr/bin/env python3\n",
    "\n",
    "import os, glob\n",
    "from PIL import Image\n",
    "\n",
    "newsize = 600, 400\n",
    "\n",
    "for file in os.listdir(\"/home/student-01-39d527268efd/supplier-data/images\"):\n",
    "  if file.endswith(\".tiff\"):\n",
    "#file = \"/home/student-01-39d527268efd/supplier-data/images/003.tiff\"\n",
    "    im = Image.open(\"/home/student-01-39d527268efd/supplier-data/images/\" + file)\n",
    "    new_img = im.resize(newsize).convert('RGB')\n",
    "    newName = file.replace(\".tiff\",\".jpeg\")\n",
    "    new_img.save(newName)\n",
    "\n"
   ]
  },
  {
   "cell_type": "code",
   "execution_count": null,
   "metadata": {},
   "outputs": [],
   "source": [
    "#!/usr/bin/env python3\n",
    "#working with supplier images\n",
    "#WORKING\n",
    "\n",
    "import os, glob\n",
    "from PIL import Image\n",
    "\n",
    "newsize = 600, 400\n",
    "\n",
    "for file in glob.glob(\"/home/student-02-c02f090107cc/supplier-data/images/*.tiff\"):\n",
    "    im = Image.open(file)\n",
    "    new_img = im.resize(newsize).convert('RGB')\n",
    "    newName = file.replace(\".tiff\",\".jpeg\")\n",
    "    new_img.save(newName)\n"
   ]
  },
  {
   "cell_type": "code",
   "execution_count": null,
   "metadata": {},
   "outputs": [],
   "source": [
    "#!/usr/bin/env python3\n",
    "# uploading images to web server\n",
    "#WORKING\n",
    "\n",
    "import requests\n",
    "import os\n",
    "\n",
    "url = \"http://35.188.67.26/upload/\" \n",
    "imdir = \"/home/student-02-c02f090107cc/supplier-data/images/\"\n",
    "list_image = os.listdir(imdir)\n",
    "jpeg_im = [imname for imname in list_image if '.jpeg' in imname]\n",
    "\n",
    "for i in jpeg_im:\n",
    "    with open(imdir + i, 'rb') as opened:\n",
    "        r = requests.post(url, files={'file': opened})"
   ]
  },
  {
   "cell_type": "code",
   "execution_count": null,
   "metadata": {},
   "outputs": [],
   "source": [
    "#! /usr/bin/env python3\n",
    "#uploading the descriptions\n",
    "\n",
    "import os\n",
    "import requests\n",
    "import json\n",
    "\n",
    "\n",
    "title = [\"name\", \"weight\", \"description\", \"image_name\"]\n",
    "d = {}\n",
    "\n",
    "for file in os.listdir(\"/home/student-02-97913c625dcb/supplier-data/descriptions\"):\n",
    "        with open(file, 'r') as f:\n",
    "            counter = 0\n",
    "            for line in f:\n",
    "                d[title[counter]] = line.rstrip('\\n')\n",
    "                counter+=1\n",
    "                d[\"weight\"] = int(line.rstrip(' lbs'))\n",
    "                \n",
    "for image in os.listdir('/home/student-02-97913c625dcb/supplier-data/images'):\n",
    "    d[title[imgcount]] = image\n",
    "    imgcount +=1\n",
    "\n",
    "json.dumps(d)\n",
    "\n",
    "url = \"http://[linux]/fruits\"\n",
    "for i in "
   ]
  },
  {
   "cell_type": "code",
   "execution_count": null,
   "metadata": {},
   "outputs": [],
   "source": [
    "#! /usr/bin/env python3\n",
    "#uploading the descriptions\n",
    "\n",
    "import os\n",
    "import requests\n",
    "import json\n",
    "\n",
    "imdir = \"/home/student-02-c02f090107cc/supplier-data/images/\"\n",
    "list_image = os.listdir(imdir)\n",
    "jpeg_im = [imname for imname in list_image if '.jpeg' in imname]\n",
    "\n",
    "for i in range(0, 10):\n",
    "    d = {}\n",
    "    for file in os.listdir(\"/home/student-02-c02f090107cc/supplier-data/descriptions\"):\n",
    "        with open(\"/home/student-02-c02f090107cc/supplier-data/descriptions/\"+ file, 'r') as f:\n",
    "            title = [\"name\", \"weight\", \"description\", \"image_name\"]\n",
    "            counter = 0\n",
    "            for line in f:\n",
    "                d[title[counter]] = line.rstrip('\\n')\n",
    "                counter+=1\n",
    "\n",
    "    for image in jpeg_im:\n",
    "        if file[0:3] == image[0:3]:\n",
    "            d[\"image_name\"] = image\n",
    "    print(d)\n"
   ]
  },
  {
   "cell_type": "code",
   "execution_count": null,
   "metadata": {},
   "outputs": [],
   "source": [
    "\n",
    "import os\n",
    "import requests\n",
    "import json\n",
    "\n",
    "# imdir = \"/supplier-data/\"\n",
    "# list_image = os.listdir(imdir)\n",
    "# jpeg_im = [imname for imname in list_image if '.jpeg' in imname]\n",
    "\n",
    "\n",
    "for file in os.listdir(\"/\"):"
   ]
  },
  {
   "cell_type": "code",
   "execution_count": 1,
   "metadata": {},
   "outputs": [
    {
     "ename": "SyntaxError",
     "evalue": "(unicode error) 'unicodeescape' codec can't decode bytes in position 2-3: truncated \\UXXXXXXXX escape (<ipython-input-1-571991e229e3>, line 10)",
     "output_type": "error",
     "traceback": [
      "\u001b[1;36m  File \u001b[1;32m\"<ipython-input-1-571991e229e3>\"\u001b[1;36m, line \u001b[1;32m10\u001b[0m\n\u001b[1;33m    for file in os.listdir(\"C:\\Users\\flare\\Google Drive\\GoogleCoursera\\supplier-data\"):\u001b[0m\n\u001b[1;37m                          ^\u001b[0m\n\u001b[1;31mSyntaxError\u001b[0m\u001b[1;31m:\u001b[0m (unicode error) 'unicodeescape' codec can't decode bytes in position 2-3: truncated \\UXXXXXXXX escape\n"
     ]
    }
   ],
   "source": [
    "\n",
    "import os\n",
    "import requests\n",
    "import json\n",
    "\n",
    "# imdir = \"/supplier-data/\"\n",
    "# list_image = os.listdir(imdir)\n",
    "# jpeg_im = [imname for imname in list_image if '.jpeg' in imname]\n",
    "\n",
    "\n",
    "for file in os.listdir(\"C:\\Users\\flare\\Google Drive\\GoogleCoursera\\supplier-data\"):\n",
    "    with open(\"C:\\Users\\flare\\Google Drive\\GoogleCoursera\\supplier-data\"+ file, 'r') as f:\n",
    "        d = {}\n",
    "        title = [\"name\", \"weight\", \"description\", \"image_name\"]\n",
    "        counter = 0\n",
    "        for line in f:\n",
    "            d[title[counter]] = line.rstrip('\\n')\n",
    "            counter+=1\n",
    "        print(d)\n",
    "\n",
    "#     for image in jpeg_im:\n",
    "#         if file[0:3] == image[0:3]:\n",
    "#             d[\"image_name\"] = image\n",
    "#     print(d)\n"
   ]
  },
  {
   "cell_type": "code",
   "execution_count": null,
   "metadata": {},
   "outputs": [],
   "source": [
    "Apple\n",
    "500 lbs\n",
    "Apple is one of the most nutritious and healthiest fruits. It is very rich in antioxidants and dietary fiber. Moderate consumption can not only increase satiety, but also help promote bowel movements. Apple also contains minerals such as calcium and magnesium, which can help prevent and delay bone loss and maintain bone health. It is good for young and old. \n"
   ]
  },
  {
   "cell_type": "code",
   "execution_count": null,
   "metadata": {},
   "outputs": [],
   "source": []
  },
  {
   "cell_type": "code",
   "execution_count": null,
   "metadata": {},
   "outputs": [],
   "source": [
    "#!/usr/bin/env python3\n",
    "#generate a pdf\n",
    "\n",
    "def main(argv):\n",
    "  data = load_data(\"car_sales.json\")\n",
    "  summary = process_data(data)\n",
    "  paragraph = \"<br/>\".join(summary)\n",
    "  title = \"Sales summary for last month\"\n",
    "  attachment = \"tmp/processed.pdf\"\n",
    "  reports.generate(attachment, title, paragrapha)\n",
    "  \n",
    "  sender = \"automation@example.com\"\n",
    "  receiver = \"{}@example.com\".format(os.environ.get('USER'))\n",
    "  body = \"\\n\".join(summary)\n",
    "  message = emails.generate(sender, receiver, title, body, attachment)\n",
    "  emails.send(message)\n",
    "\n",
    "if __name__ == \"__main__\":\n",
    "  main(sys.argv)\n"
   ]
  },
  {
   "cell_type": "code",
   "execution_count": null,
   "metadata": {},
   "outputs": [],
   "source": [
    "#!/usr/bin/env python3\n",
    "# Health check\n",
    "\n",
    "import os\n",
    "import shutil\n",
    "import psutil\n",
    "import socket\n",
    "from emails import generate_error_report, send_email\n",
    "\n",
    "def check_cpu():\n",
    "    percent = pstutil.cpu_percent()\n",
    "    return percent > 80\n",
    "\n",
    "def check_disk(dis):\n",
    "    disk = shutil.disk_usage(dis)\n",
    "    return disk.free / disk.total < 0.2\n",
    "def check_memory():\n",
    "    memory = psutil.virtual_memory().available\n",
    "    return memory * 10^-6 < 500\n",
    "\n",
    "def check_localhost():\n",
    "    localhost = socket.gethostbyname('localhost')\n",
    "    return localhost == '127.0.0.1'\n",
    "\n",
    "if check_cpu() == True:\n",
    "    print(\"CPU usage over 80%\")\n",
    "if check_disk('/') == True:\n",
    "    print(\"Available disk space is less than 20%\")\n",
    "if check_memory() == True:\n",
    "    print(\"Available memory is less than 500MB\")\n",
    "if check_localhost() == True:\n",
    "    print(\"Localhost cannot be resolved to 127.0.0.1\")\n",
    "    \n",
    "    \n",
    "if __name__ = \"__main__\":\n",
    "    sender = \"automation@example.com\"\n",
    "    receiver = \"{}@example.com\".format(os.environ.get('USER'))\n",
    "    body = \"Please check your system and resolve the issue as soon as possible\"\n",
    "    message = emails.generate(sender, receiver, title, body)\n",
    "    emails.send(message)"
   ]
  },
  {
   "cell_type": "code",
   "execution_count": 9,
   "metadata": {},
   "outputs": [
    {
     "ename": "NameError",
     "evalue": "name 'disk' is not defined",
     "output_type": "error",
     "traceback": [
      "\u001b[1;31m---------------------------------------------------------------------------\u001b[0m",
      "\u001b[1;31mNameError\u001b[0m                                 Traceback (most recent call last)",
      "\u001b[1;32m<ipython-input-9-14164cae5dca>\u001b[0m in \u001b[0;36m<module>\u001b[1;34m\u001b[0m\n\u001b[0;32m      2\u001b[0m \u001b[1;32mimport\u001b[0m \u001b[0mpsutil\u001b[0m\u001b[1;33m\u001b[0m\u001b[1;33m\u001b[0m\u001b[0m\n\u001b[0;32m      3\u001b[0m \u001b[1;33m\u001b[0m\u001b[0m\n\u001b[1;32m----> 4\u001b[1;33m \u001b[0mshutil\u001b[0m\u001b[1;33m.\u001b[0m\u001b[0mdisk_usage\u001b[0m\u001b[1;33m(\u001b[0m\u001b[0mdisk\u001b[0m\u001b[1;33m)\u001b[0m\u001b[1;33m\u001b[0m\u001b[1;33m\u001b[0m\u001b[0m\n\u001b[0m\u001b[0;32m      5\u001b[0m \u001b[1;33m\u001b[0m\u001b[0m\n",
      "\u001b[1;31mNameError\u001b[0m: name 'disk' is not defined"
     ]
    }
   ],
   "source": [
    "import shutil \n",
    "import psutil\n",
    "\n",
    "shutil.disk_usage()\n",
    "\n"
   ]
  }
 ],
 "metadata": {
  "kernelspec": {
   "display_name": "Python 3",
   "language": "python",
   "name": "python3"
  },
  "language_info": {
   "codemirror_mode": {
    "name": "ipython",
    "version": 3
   },
   "file_extension": ".py",
   "mimetype": "text/x-python",
   "name": "python",
   "nbconvert_exporter": "python",
   "pygments_lexer": "ipython3",
   "version": "3.7.6"
  }
 },
 "nbformat": 4,
 "nbformat_minor": 4
}
